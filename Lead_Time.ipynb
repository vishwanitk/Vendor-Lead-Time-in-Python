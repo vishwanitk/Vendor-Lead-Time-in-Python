{
 "cells": [
  {
   "cell_type": "code",
   "execution_count": 148,
   "id": "e108f312-cb2a-4933-a24f-42306fa9abba",
   "metadata": {},
   "outputs": [],
   "source": [
    "import pandas as pd"
   ]
  },
  {
   "cell_type": "code",
   "execution_count": 202,
   "id": "6fb43226-9c70-49a5-bbfb-6e090fecabdf",
   "metadata": {},
   "outputs": [],
   "source": [
    "df=pd.read_excel('final_invoice_lead_times.xlsx')"
   ]
  },
  {
   "cell_type": "code",
   "execution_count": 203,
   "id": "1ddbea3a-1808-48d0-a9ca-17ec17a55c7a",
   "metadata": {},
   "outputs": [
    {
     "name": "stdout",
     "output_type": "stream",
     "text": [
      "<class 'pandas.core.frame.DataFrame'>\n",
      "RangeIndex: 101372 entries, 0 to 101371\n",
      "Data columns (total 4 columns):\n",
      " #   Column           Non-Null Count   Dtype  \n",
      "---  ------           --------------   -----  \n",
      " 0   Vendor Code      101372 non-null  object \n",
      " 1   LT_PO_GRN        101372 non-null  float64\n",
      " 2   LT_PO_Invoice    101372 non-null  float64\n",
      " 3   Total Lead Time  101372 non-null  float64\n",
      "dtypes: float64(3), object(1)\n",
      "memory usage: 3.1+ MB\n"
     ]
    }
   ],
   "source": [
    "df.info()"
   ]
  },
  {
   "cell_type": "code",
   "execution_count": 204,
   "id": "5abec6c0-6042-4d90-8449-b91efac20f45",
   "metadata": {},
   "outputs": [],
   "source": [
    "df['Total_Lead_Time']=df['Total Lead Time']"
   ]
  },
  {
   "cell_type": "code",
   "execution_count": 205,
   "id": "588c1e91-9f3a-4c22-9379-9d463e6d4614",
   "metadata": {},
   "outputs": [],
   "source": [
    "df.drop('Total Lead Time',axis=1,inplace=True)"
   ]
  },
  {
   "cell_type": "code",
   "execution_count": 212,
   "id": "839f9dd4-b4ff-4c0d-8499-a6b02040b51c",
   "metadata": {},
   "outputs": [
    {
     "data": {
      "text/html": [
       "<div>\n",
       "<style scoped>\n",
       "    .dataframe tbody tr th:only-of-type {\n",
       "        vertical-align: middle;\n",
       "    }\n",
       "\n",
       "    .dataframe tbody tr th {\n",
       "        vertical-align: top;\n",
       "    }\n",
       "\n",
       "    .dataframe thead th {\n",
       "        text-align: right;\n",
       "    }\n",
       "</style>\n",
       "<table border=\"1\" class=\"dataframe\">\n",
       "  <thead>\n",
       "    <tr style=\"text-align: right;\">\n",
       "      <th></th>\n",
       "      <th>Vendor Code</th>\n",
       "      <th>LT_PO_GRN</th>\n",
       "      <th>LT_PO_Invoice</th>\n",
       "      <th>Total_Lead_Time</th>\n",
       "    </tr>\n",
       "  </thead>\n",
       "  <tbody>\n",
       "    <tr>\n",
       "      <th>0</th>\n",
       "      <td>VEN0001</td>\n",
       "      <td>4.376921</td>\n",
       "      <td>2.376921</td>\n",
       "      <td>6.753843</td>\n",
       "    </tr>\n",
       "    <tr>\n",
       "      <th>1</th>\n",
       "      <td>VEN0001</td>\n",
       "      <td>4.376921</td>\n",
       "      <td>2.376921</td>\n",
       "      <td>6.753843</td>\n",
       "    </tr>\n",
       "    <tr>\n",
       "      <th>2</th>\n",
       "      <td>VEN0001</td>\n",
       "      <td>4.376921</td>\n",
       "      <td>2.376921</td>\n",
       "      <td>6.753843</td>\n",
       "    </tr>\n",
       "    <tr>\n",
       "      <th>3</th>\n",
       "      <td>VEN0001</td>\n",
       "      <td>4.376921</td>\n",
       "      <td>2.376921</td>\n",
       "      <td>6.753843</td>\n",
       "    </tr>\n",
       "    <tr>\n",
       "      <th>4</th>\n",
       "      <td>VEN0001</td>\n",
       "      <td>4.376921</td>\n",
       "      <td>2.376921</td>\n",
       "      <td>6.753843</td>\n",
       "    </tr>\n",
       "    <tr>\n",
       "      <th>...</th>\n",
       "      <td>...</td>\n",
       "      <td>...</td>\n",
       "      <td>...</td>\n",
       "      <td>...</td>\n",
       "    </tr>\n",
       "    <tr>\n",
       "      <th>101367</th>\n",
       "      <td>VEN0050</td>\n",
       "      <td>5.093079</td>\n",
       "      <td>0.804884</td>\n",
       "      <td>5.897963</td>\n",
       "    </tr>\n",
       "    <tr>\n",
       "      <th>101368</th>\n",
       "      <td>VEN0025</td>\n",
       "      <td>4.092963</td>\n",
       "      <td>1.806852</td>\n",
       "      <td>5.899815</td>\n",
       "    </tr>\n",
       "    <tr>\n",
       "      <th>101369</th>\n",
       "      <td>VEN0095</td>\n",
       "      <td>7.096296</td>\n",
       "      <td>1.809491</td>\n",
       "      <td>8.905787</td>\n",
       "    </tr>\n",
       "    <tr>\n",
       "      <th>101370</th>\n",
       "      <td>VEN0023</td>\n",
       "      <td>7.097824</td>\n",
       "      <td>1.811019</td>\n",
       "      <td>8.908843</td>\n",
       "    </tr>\n",
       "    <tr>\n",
       "      <th>101371</th>\n",
       "      <td>VEN0040</td>\n",
       "      <td>3.130764</td>\n",
       "      <td>1.812708</td>\n",
       "      <td>4.943472</td>\n",
       "    </tr>\n",
       "  </tbody>\n",
       "</table>\n",
       "<p>101372 rows × 4 columns</p>\n",
       "</div>"
      ],
      "text/plain": [
       "       Vendor Code  LT_PO_GRN  LT_PO_Invoice  Total_Lead_Time\n",
       "0          VEN0001   4.376921       2.376921         6.753843\n",
       "1          VEN0001   4.376921       2.376921         6.753843\n",
       "2          VEN0001   4.376921       2.376921         6.753843\n",
       "3          VEN0001   4.376921       2.376921         6.753843\n",
       "4          VEN0001   4.376921       2.376921         6.753843\n",
       "...            ...        ...            ...              ...\n",
       "101367     VEN0050   5.093079       0.804884         5.897963\n",
       "101368     VEN0025   4.092963       1.806852         5.899815\n",
       "101369     VEN0095   7.096296       1.809491         8.905787\n",
       "101370     VEN0023   7.097824       1.811019         8.908843\n",
       "101371     VEN0040   3.130764       1.812708         4.943472\n",
       "\n",
       "[101372 rows x 4 columns]"
      ]
     },
     "execution_count": 212,
     "metadata": {},
     "output_type": "execute_result"
    }
   ],
   "source": [
    "df\n"
   ]
  },
  {
   "cell_type": "code",
   "execution_count": 214,
   "id": "26b2f5af-1422-4d3b-a7fd-f0b63ba6f290",
   "metadata": {},
   "outputs": [
    {
     "data": {
      "text/html": [
       "<div>\n",
       "<style scoped>\n",
       "    .dataframe tbody tr th:only-of-type {\n",
       "        vertical-align: middle;\n",
       "    }\n",
       "\n",
       "    .dataframe tbody tr th {\n",
       "        vertical-align: top;\n",
       "    }\n",
       "\n",
       "    .dataframe thead th {\n",
       "        text-align: right;\n",
       "    }\n",
       "</style>\n",
       "<table border=\"1\" class=\"dataframe\">\n",
       "  <thead>\n",
       "    <tr style=\"text-align: right;\">\n",
       "      <th></th>\n",
       "      <th>Vendor Code</th>\n",
       "      <th>LT_PO_GRN</th>\n",
       "      <th>LT_PO_Invoice</th>\n",
       "      <th>Total_Lead_Time</th>\n",
       "    </tr>\n",
       "  </thead>\n",
       "  <tbody>\n",
       "    <tr>\n",
       "      <th>0</th>\n",
       "      <td>VEN0001</td>\n",
       "      <td>4.376921</td>\n",
       "      <td>2.376921</td>\n",
       "      <td>6.753843</td>\n",
       "    </tr>\n",
       "    <tr>\n",
       "      <th>1</th>\n",
       "      <td>VEN0001</td>\n",
       "      <td>4.376921</td>\n",
       "      <td>2.376921</td>\n",
       "      <td>6.753843</td>\n",
       "    </tr>\n",
       "    <tr>\n",
       "      <th>2</th>\n",
       "      <td>VEN0001</td>\n",
       "      <td>4.376921</td>\n",
       "      <td>2.376921</td>\n",
       "      <td>6.753843</td>\n",
       "    </tr>\n",
       "    <tr>\n",
       "      <th>3</th>\n",
       "      <td>VEN0001</td>\n",
       "      <td>4.376921</td>\n",
       "      <td>2.376921</td>\n",
       "      <td>6.753843</td>\n",
       "    </tr>\n",
       "    <tr>\n",
       "      <th>4</th>\n",
       "      <td>VEN0001</td>\n",
       "      <td>4.376921</td>\n",
       "      <td>2.376921</td>\n",
       "      <td>6.753843</td>\n",
       "    </tr>\n",
       "    <tr>\n",
       "      <th>...</th>\n",
       "      <td>...</td>\n",
       "      <td>...</td>\n",
       "      <td>...</td>\n",
       "      <td>...</td>\n",
       "    </tr>\n",
       "    <tr>\n",
       "      <th>101367</th>\n",
       "      <td>VEN0050</td>\n",
       "      <td>5.093079</td>\n",
       "      <td>0.804884</td>\n",
       "      <td>5.897963</td>\n",
       "    </tr>\n",
       "    <tr>\n",
       "      <th>101368</th>\n",
       "      <td>VEN0025</td>\n",
       "      <td>4.092963</td>\n",
       "      <td>1.806852</td>\n",
       "      <td>5.899815</td>\n",
       "    </tr>\n",
       "    <tr>\n",
       "      <th>101369</th>\n",
       "      <td>VEN0095</td>\n",
       "      <td>7.096296</td>\n",
       "      <td>1.809491</td>\n",
       "      <td>8.905787</td>\n",
       "    </tr>\n",
       "    <tr>\n",
       "      <th>101370</th>\n",
       "      <td>VEN0023</td>\n",
       "      <td>7.097824</td>\n",
       "      <td>1.811019</td>\n",
       "      <td>8.908843</td>\n",
       "    </tr>\n",
       "    <tr>\n",
       "      <th>101371</th>\n",
       "      <td>VEN0040</td>\n",
       "      <td>3.130764</td>\n",
       "      <td>1.812708</td>\n",
       "      <td>4.943472</td>\n",
       "    </tr>\n",
       "  </tbody>\n",
       "</table>\n",
       "<p>101372 rows × 4 columns</p>\n",
       "</div>"
      ],
      "text/plain": [
       "       Vendor Code  LT_PO_GRN  LT_PO_Invoice  Total_Lead_Time\n",
       "0          VEN0001   4.376921       2.376921         6.753843\n",
       "1          VEN0001   4.376921       2.376921         6.753843\n",
       "2          VEN0001   4.376921       2.376921         6.753843\n",
       "3          VEN0001   4.376921       2.376921         6.753843\n",
       "4          VEN0001   4.376921       2.376921         6.753843\n",
       "...            ...        ...            ...              ...\n",
       "101367     VEN0050   5.093079       0.804884         5.897963\n",
       "101368     VEN0025   4.092963       1.806852         5.899815\n",
       "101369     VEN0095   7.096296       1.809491         8.905787\n",
       "101370     VEN0023   7.097824       1.811019         8.908843\n",
       "101371     VEN0040   3.130764       1.812708         4.943472\n",
       "\n",
       "[101372 rows x 4 columns]"
      ]
     },
     "execution_count": 214,
     "metadata": {},
     "output_type": "execute_result"
    }
   ],
   "source": [
    "df"
   ]
  },
  {
   "cell_type": "code",
   "execution_count": 216,
   "id": "6a1cfbfc-67d2-47f4-84fb-45f82046103e",
   "metadata": {},
   "outputs": [
    {
     "name": "stderr",
     "output_type": "stream",
     "text": [
      "/var/folders/v6/b6p52t217dl0zncsqc790k4m0000gn/T/ipykernel_4074/167668394.py:10: DeprecationWarning: DataFrameGroupBy.apply operated on the grouping columns. This behavior is deprecated, and in a future version of pandas the grouping columns will be excluded from the operation. Either pass `include_groups=False` to exclude the groupings or explicitly select the grouping columns after groupby to silence this warning.\n",
      "  filtered_df = df.groupby('Vendor Code', group_keys=False).apply(remove_outliers_iqr)\n"
     ]
    }
   ],
   "source": [
    "def remove_outliers_iqr(group):\n",
    "    q1 = df['LT_PO_GRN'].quantile(0.25)\n",
    "    q3 = df['LT_PO_GRN'].quantile(0.75)\n",
    "    iqr = q3 - q1\n",
    "    lower = q1 - 1.5 * iqr\n",
    "    upper = q3 + 1.5 * iqr\n",
    "    return df[(df['LT_PO_GRN'] >= lower) & (df['LT_PO_GRN'] <= upper)]\n",
    "\n",
    "# Apply outlier removal per vendor\n",
    "filtered_df = df.groupby('Vendor Code', group_keys=False).apply(remove_outliers_iqr)\n"
   ]
  },
  {
   "cell_type": "code",
   "execution_count": 217,
   "id": "0352b052-4ca1-4288-a216-cd9e128eb63f",
   "metadata": {},
   "outputs": [
    {
     "data": {
      "text/html": [
       "<div>\n",
       "<style scoped>\n",
       "    .dataframe tbody tr th:only-of-type {\n",
       "        vertical-align: middle;\n",
       "    }\n",
       "\n",
       "    .dataframe tbody tr th {\n",
       "        vertical-align: top;\n",
       "    }\n",
       "\n",
       "    .dataframe thead th {\n",
       "        text-align: right;\n",
       "    }\n",
       "</style>\n",
       "<table border=\"1\" class=\"dataframe\">\n",
       "  <thead>\n",
       "    <tr style=\"text-align: right;\">\n",
       "      <th></th>\n",
       "      <th>Vendor Code</th>\n",
       "      <th>LT_PO_GRN</th>\n",
       "      <th>LT_PO_Invoice</th>\n",
       "      <th>Total_Lead_Time</th>\n",
       "    </tr>\n",
       "  </thead>\n",
       "  <tbody>\n",
       "    <tr>\n",
       "      <th>0</th>\n",
       "      <td>VEN0001</td>\n",
       "      <td>4.376921</td>\n",
       "      <td>2.376921</td>\n",
       "      <td>6.753843</td>\n",
       "    </tr>\n",
       "    <tr>\n",
       "      <th>1</th>\n",
       "      <td>VEN0001</td>\n",
       "      <td>4.376921</td>\n",
       "      <td>2.376921</td>\n",
       "      <td>6.753843</td>\n",
       "    </tr>\n",
       "    <tr>\n",
       "      <th>2</th>\n",
       "      <td>VEN0001</td>\n",
       "      <td>4.376921</td>\n",
       "      <td>2.376921</td>\n",
       "      <td>6.753843</td>\n",
       "    </tr>\n",
       "    <tr>\n",
       "      <th>3</th>\n",
       "      <td>VEN0001</td>\n",
       "      <td>4.376921</td>\n",
       "      <td>2.376921</td>\n",
       "      <td>6.753843</td>\n",
       "    </tr>\n",
       "    <tr>\n",
       "      <th>4</th>\n",
       "      <td>VEN0001</td>\n",
       "      <td>4.376921</td>\n",
       "      <td>2.376921</td>\n",
       "      <td>6.753843</td>\n",
       "    </tr>\n",
       "    <tr>\n",
       "      <th>...</th>\n",
       "      <td>...</td>\n",
       "      <td>...</td>\n",
       "      <td>...</td>\n",
       "      <td>...</td>\n",
       "    </tr>\n",
       "    <tr>\n",
       "      <th>101367</th>\n",
       "      <td>VEN0050</td>\n",
       "      <td>5.093079</td>\n",
       "      <td>0.804884</td>\n",
       "      <td>5.897963</td>\n",
       "    </tr>\n",
       "    <tr>\n",
       "      <th>101368</th>\n",
       "      <td>VEN0025</td>\n",
       "      <td>4.092963</td>\n",
       "      <td>1.806852</td>\n",
       "      <td>5.899815</td>\n",
       "    </tr>\n",
       "    <tr>\n",
       "      <th>101369</th>\n",
       "      <td>VEN0095</td>\n",
       "      <td>7.096296</td>\n",
       "      <td>1.809491</td>\n",
       "      <td>8.905787</td>\n",
       "    </tr>\n",
       "    <tr>\n",
       "      <th>101370</th>\n",
       "      <td>VEN0023</td>\n",
       "      <td>7.097824</td>\n",
       "      <td>1.811019</td>\n",
       "      <td>8.908843</td>\n",
       "    </tr>\n",
       "    <tr>\n",
       "      <th>101371</th>\n",
       "      <td>VEN0040</td>\n",
       "      <td>3.130764</td>\n",
       "      <td>1.812708</td>\n",
       "      <td>4.943472</td>\n",
       "    </tr>\n",
       "  </tbody>\n",
       "</table>\n",
       "<p>44360523 rows × 4 columns</p>\n",
       "</div>"
      ],
      "text/plain": [
       "       Vendor Code  LT_PO_GRN  LT_PO_Invoice  Total_Lead_Time\n",
       "0          VEN0001   4.376921       2.376921         6.753843\n",
       "1          VEN0001   4.376921       2.376921         6.753843\n",
       "2          VEN0001   4.376921       2.376921         6.753843\n",
       "3          VEN0001   4.376921       2.376921         6.753843\n",
       "4          VEN0001   4.376921       2.376921         6.753843\n",
       "...            ...        ...            ...              ...\n",
       "101367     VEN0050   5.093079       0.804884         5.897963\n",
       "101368     VEN0025   4.092963       1.806852         5.899815\n",
       "101369     VEN0095   7.096296       1.809491         8.905787\n",
       "101370     VEN0023   7.097824       1.811019         8.908843\n",
       "101371     VEN0040   3.130764       1.812708         4.943472\n",
       "\n",
       "[44360523 rows x 4 columns]"
      ]
     },
     "execution_count": 217,
     "metadata": {},
     "output_type": "execute_result"
    }
   ],
   "source": [
    "filtered_df"
   ]
  },
  {
   "cell_type": "code",
   "execution_count": 218,
   "id": "f68ae7b7-644a-4cf1-bf88-132a5c34bac8",
   "metadata": {},
   "outputs": [
    {
     "data": {
      "text/plain": [
       "3.267172026914582"
      ]
     },
     "execution_count": 218,
     "metadata": {},
     "output_type": "execute_result"
    }
   ],
   "source": [
    "filtered_df['LT_PO_GRN'].mean()"
   ]
  },
  {
   "cell_type": "code",
   "execution_count": 222,
   "id": "000dffcb-d570-4b1d-8952-63a6067b2bb9",
   "metadata": {},
   "outputs": [
    {
     "data": {
      "text/plain": [
       "9.951688189430019"
      ]
     },
     "execution_count": 222,
     "metadata": {},
     "output_type": "execute_result"
    }
   ],
   "source": [
    "df['LT_PO_GRN'].mean()"
   ]
  },
  {
   "cell_type": "code",
   "execution_count": 224,
   "id": "6325e25d-817b-4b26-8022-f59de7892842",
   "metadata": {},
   "outputs": [],
   "source": [
    "import matplotlib.pyplot as plt"
   ]
  },
  {
   "cell_type": "code",
   "execution_count": 226,
   "id": "fbd6bd69-1332-4b4c-94c0-1873456e1e63",
   "metadata": {},
   "outputs": [
    {
     "data": {
      "image/png": "[encoded data removed]",
      "text/plain": [
       "<Figure size 640x480 with 1 Axes>"
      ]
     },
     "metadata": {},
     "output_type": "display_data"
    }
   ],
   "source": [
    "plt.hist(filtered_df['LT_PO_GRN'])\n",
    "plt.show()"
   ]
  },
  {
   "cell_type": "code",
   "execution_count": 234,
   "id": "e92bed36-a973-41dd-b35d-c54aee2b6b66",
   "metadata": {},
   "outputs": [],
   "source": [
    "avg_lead_time = filtered_df.groupby('Vendor Code')['LT_PO_GRN'].mean().reset_index()\n",
    "avg_lead_time.columns = ['Vendor', 'Average Lead Time']\n"
   ]
  },
  {
   "cell_type": "code",
   "execution_count": 235,
   "id": "1269965e-0560-4189-bbd0-7a7069235569",
   "metadata": {},
   "outputs": [
    {
     "data": {
      "text/html": [
       "<div>\n",
       "<style scoped>\n",
       "    .dataframe tbody tr th:only-of-type {\n",
       "        vertical-align: middle;\n",
       "    }\n",
       "\n",
       "    .dataframe tbody tr th {\n",
       "        vertical-align: top;\n",
       "    }\n",
       "\n",
       "    .dataframe thead th {\n",
       "        text-align: right;\n",
       "    }\n",
       "</style>\n",
       "<table border=\"1\" class=\"dataframe\">\n",
       "  <thead>\n",
       "    <tr style=\"text-align: right;\">\n",
       "      <th></th>\n",
       "      <th>Vendor</th>\n",
       "      <th>Average Lead Time</th>\n",
       "    </tr>\n",
       "  </thead>\n",
       "  <tbody>\n",
       "    <tr>\n",
       "      <th>0</th>\n",
       "      <td>VEN0001</td>\n",
       "      <td>6.560861</td>\n",
       "    </tr>\n",
       "    <tr>\n",
       "      <th>1</th>\n",
       "      <td>VEN0002</td>\n",
       "      <td>2.873930</td>\n",
       "    </tr>\n",
       "    <tr>\n",
       "      <th>2</th>\n",
       "      <td>VEN0003</td>\n",
       "      <td>3.550705</td>\n",
       "    </tr>\n",
       "    <tr>\n",
       "      <th>3</th>\n",
       "      <td>VEN0004</td>\n",
       "      <td>2.195263</td>\n",
       "    </tr>\n",
       "    <tr>\n",
       "      <th>4</th>\n",
       "      <td>VEN0005</td>\n",
       "      <td>3.758838</td>\n",
       "    </tr>\n",
       "    <tr>\n",
       "      <th>...</th>\n",
       "      <td>...</td>\n",
       "      <td>...</td>\n",
       "    </tr>\n",
       "    <tr>\n",
       "      <th>456</th>\n",
       "      <td>VEN0476</td>\n",
       "      <td>6.071586</td>\n",
       "    </tr>\n",
       "    <tr>\n",
       "      <th>457</th>\n",
       "      <td>VEN0477</td>\n",
       "      <td>0.358061</td>\n",
       "    </tr>\n",
       "    <tr>\n",
       "      <th>458</th>\n",
       "      <td>VEN0478</td>\n",
       "      <td>11.167940</td>\n",
       "    </tr>\n",
       "    <tr>\n",
       "      <th>459</th>\n",
       "      <td>VEN0479</td>\n",
       "      <td>0.017766</td>\n",
       "    </tr>\n",
       "    <tr>\n",
       "      <th>460</th>\n",
       "      <td>VEN0480</td>\n",
       "      <td>0.019144</td>\n",
       "    </tr>\n",
       "  </tbody>\n",
       "</table>\n",
       "<p>461 rows × 2 columns</p>\n",
       "</div>"
      ],
      "text/plain": [
       "      Vendor  Average Lead Time\n",
       "0    VEN0001           6.560861\n",
       "1    VEN0002           2.873930\n",
       "2    VEN0003           3.550705\n",
       "3    VEN0004           2.195263\n",
       "4    VEN0005           3.758838\n",
       "..       ...                ...\n",
       "456  VEN0476           6.071586\n",
       "457  VEN0477           0.358061\n",
       "458  VEN0478          11.167940\n",
       "459  VEN0479           0.017766\n",
       "460  VEN0480           0.019144\n",
       "\n",
       "[461 rows x 2 columns]"
      ]
     },
     "execution_count": 235,
     "metadata": {},
     "output_type": "execute_result"
    }
   ],
   "source": [
    "avg_lead_time"
   ]
  },
  {
   "cell_type": "code",
   "execution_count": 241,
   "id": "e78b398c-da2f-4802-b7ac-1e460ff1979e",
   "metadata": {},
   "outputs": [],
   "source": [
    "avg_lead_time.to_excel('knew_vendor_lead_time_output.xlsx', index=False)\n"
   ]
  },
  {
   "cell_type": "code",
   "execution_count": null,
   "id": "6d74a5c9-e51c-4c80-bc65-e7a6cfe8161b",
   "metadata": {},
   "outputs": [],
   "source": []
  },
  {
   "cell_type": "code",
   "execution_count": null,
   "id": "22306d2a-df03-4bb2-8221-426a14d7de37",
   "metadata": {},
   "outputs": [],
   "source": []
  }
 ],
 "metadata": {
  "kernelspec": {
   "display_name": "Python [conda env:base] *",
   "language": "python",
   "name": "conda-base-py"
  },
  "language_info": {
   "codemirror_mode": {
    "name": "ipython",
    "version": 3
   },
   "file_extension": ".py",
   "mimetype": "text/x-python",
   "name": "python",
   "nbconvert_exporter": "python",
   "pygments_lexer": "ipython3",
   "version": "3.12.7"
  }
 },
 "nbformat": 4,
 "nbformat_minor": 5
}
